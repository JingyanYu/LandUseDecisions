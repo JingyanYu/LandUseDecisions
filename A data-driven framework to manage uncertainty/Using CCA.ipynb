{
 "cells": [
  {
   "cell_type": "markdown",
   "id": "bc4c1338",
   "metadata": {},
   "source": [
    "# 1. Install dependencies\n",
    "\n",
    "1. On windows, after installing Anaconda:     \n",
    "\n",
    "Open the Anaconda command window and run the following commands to install the necessary libraries\n",
    "\n",
    "pip install rasterio  \n",
    "pip install geopandas \n",
    "\n",
    "If necessary, you can find out more about installing rasterio and geopandas here: \n",
    "https://rasterio.readthedocs.io/en/latest/installation.html    \n",
    "https://geopandas.org/en/stable/getting_started/install.html\n",
    "\n",
    "2. clone CCA_EU from https://github.com/JingyanYu/LandUseDecisions/blob/9bd4747ca46c199b63d7936d16e259e46afff9ec/A%20data-driven%20framework%20to%20manage%20uncertainty/CCA_EU.py"
   ]
  },
  {
   "cell_type": "code",
   "execution_count": 113,
   "id": "f7eb2208",
   "metadata": {
    "scrolled": true
   },
   "outputs": [],
   "source": [
    "import rasterio as rio\n",
    "from rasterio.plot import show"
   ]
  },
  {
   "cell_type": "code",
   "execution_count": 114,
   "id": "210e50c5",
   "metadata": {},
   "outputs": [],
   "source": [
    "import geopandas as gpd"
   ]
  },
  {
   "cell_type": "code",
   "execution_count": 115,
   "id": "df7299a0",
   "metadata": {},
   "outputs": [],
   "source": [
    "import CCA_EU"
   ]
  },
  {
   "cell_type": "code",
   "execution_count": 116,
   "id": "00a48968",
   "metadata": {},
   "outputs": [],
   "source": [
    "import numpy as np\n",
    "import pandas as pd\n",
    "import pickle\n",
    "import matplotlib.pyplot as plt\n",
    "from matplotlib.colors import ListedColormap"
   ]
  },
  {
   "cell_type": "code",
   "execution_count": null,
   "id": "d6918a94",
   "metadata": {},
   "outputs": [],
   "source": []
  },
  {
   "cell_type": "markdown",
   "id": "7415d4c4",
   "metadata": {},
   "source": [
    "# 2. FUA, GHSL data\n",
    "\n",
    "The GHSL built-up raster data publicly available with identifiers doi: 10.2905/jrc-ghsl-10007    \n",
    "Functional urban area vector data: https://ghsl.jrc.ec.europa.eu/ghs_fua.php\n",
    "\n",
    "The processed GeoDataFrame of European functional urban areas & growth - the file countries_gpd.pkl can be downloaded at https://figshare.com/s/245ad30270bd7eb12f41. After downloading the files, copy to a (new) \"pickled_data\" folder."
   ]
  },
  {
   "cell_type": "code",
   "execution_count": null,
   "id": "56bc905d",
   "metadata": {},
   "outputs": [],
   "source": [
    "# Load a geodataframe of functional urban areas (FUAs) in European OECD countries \n",
    "# with units of built-up urban growth between 1975-2014 \n",
    "\n",
    "countries_gpd = pd.read_pickle(r\"pickled_data\\countries_gpd.pkl\")\n",
    "FUAs = countries_gpd['eFUA_name'].to_list()\n",
    "countries = countries_gpd['Cntry_name'].to_list()"
   ]
  },
  {
   "cell_type": "code",
   "execution_count": 6,
   "id": "349f713b",
   "metadata": {},
   "outputs": [
    {
     "data": {
      "text/html": [
       "<div>\n",
       "<style scoped>\n",
       "    .dataframe tbody tr th:only-of-type {\n",
       "        vertical-align: middle;\n",
       "    }\n",
       "\n",
       "    .dataframe tbody tr th {\n",
       "        vertical-align: top;\n",
       "    }\n",
       "\n",
       "    .dataframe thead th {\n",
       "        text-align: right;\n",
       "    }\n",
       "</style>\n",
       "<table border=\"1\" class=\"dataframe\">\n",
       "  <thead>\n",
       "    <tr style=\"text-align: right;\">\n",
       "      <th></th>\n",
       "      <th>eFUA_name</th>\n",
       "      <th>Cntry_name</th>\n",
       "      <th>FUA_area</th>\n",
       "      <th>UC_area</th>\n",
       "      <th>geometry</th>\n",
       "      <th>1975 urban</th>\n",
       "      <th>1990 urban</th>\n",
       "      <th>2000 urban</th>\n",
       "      <th>2014 urban</th>\n",
       "      <th>90-00 UG</th>\n",
       "      <th>00-14 UG</th>\n",
       "      <th>75-90 UG</th>\n",
       "    </tr>\n",
       "  </thead>\n",
       "  <tbody>\n",
       "    <tr>\n",
       "      <th>252</th>\n",
       "      <td>Innsbruck</td>\n",
       "      <td>Austria</td>\n",
       "      <td>352.0</td>\n",
       "      <td>27.0</td>\n",
       "      <td>MULTIPOLYGON (((914000.000 5590000.000, 916000...</td>\n",
       "      <td>855.0</td>\n",
       "      <td>957</td>\n",
       "      <td>1078</td>\n",
       "      <td>1173</td>\n",
       "      <td>121</td>\n",
       "      <td>95</td>\n",
       "      <td>102.0</td>\n",
       "    </tr>\n",
       "    <tr>\n",
       "      <th>253</th>\n",
       "      <td>Salzburg</td>\n",
       "      <td>Austria</td>\n",
       "      <td>368.0</td>\n",
       "      <td>46.0</td>\n",
       "      <td>MULTIPOLYGON (((1031000.000 5652000.000, 10320...</td>\n",
       "      <td>1015.0</td>\n",
       "      <td>1114</td>\n",
       "      <td>1266</td>\n",
       "      <td>1421</td>\n",
       "      <td>152</td>\n",
       "      <td>155</td>\n",
       "      <td>99.0</td>\n",
       "    </tr>\n",
       "    <tr>\n",
       "      <th>254</th>\n",
       "      <td>Linz</td>\n",
       "      <td>Austria</td>\n",
       "      <td>875.0</td>\n",
       "      <td>69.0</td>\n",
       "      <td>MULTIPOLYGON (((1116000.000 5708000.000, 11250...</td>\n",
       "      <td>1908.0</td>\n",
       "      <td>2214</td>\n",
       "      <td>2555</td>\n",
       "      <td>2879</td>\n",
       "      <td>341</td>\n",
       "      <td>324</td>\n",
       "      <td>306.0</td>\n",
       "    </tr>\n",
       "    <tr>\n",
       "      <th>255</th>\n",
       "      <td>Klagenfurt</td>\n",
       "      <td>Austria</td>\n",
       "      <td>462.0</td>\n",
       "      <td>26.0</td>\n",
       "      <td>MULTIPOLYGON (((1139000.000 5531000.000, 11400...</td>\n",
       "      <td>847.0</td>\n",
       "      <td>967</td>\n",
       "      <td>1027</td>\n",
       "      <td>1167</td>\n",
       "      <td>60</td>\n",
       "      <td>140</td>\n",
       "      <td>120.0</td>\n",
       "    </tr>\n",
       "    <tr>\n",
       "      <th>256</th>\n",
       "      <td>Graz</td>\n",
       "      <td>Austria</td>\n",
       "      <td>978.0</td>\n",
       "      <td>73.0</td>\n",
       "      <td>MULTIPOLYGON (((1206000.000 5582000.000, 12070...</td>\n",
       "      <td>1420.0</td>\n",
       "      <td>1440</td>\n",
       "      <td>1743</td>\n",
       "      <td>1930</td>\n",
       "      <td>303</td>\n",
       "      <td>187</td>\n",
       "      <td>20.0</td>\n",
       "    </tr>\n",
       "  </tbody>\n",
       "</table>\n",
       "</div>"
      ],
      "text/plain": [
       "      eFUA_name Cntry_name  FUA_area  UC_area  \\\n",
       "252   Innsbruck    Austria     352.0     27.0   \n",
       "253    Salzburg    Austria     368.0     46.0   \n",
       "254        Linz    Austria     875.0     69.0   \n",
       "255  Klagenfurt    Austria     462.0     26.0   \n",
       "256        Graz    Austria     978.0     73.0   \n",
       "\n",
       "                                              geometry  1975 urban  \\\n",
       "252  MULTIPOLYGON (((914000.000 5590000.000, 916000...       855.0   \n",
       "253  MULTIPOLYGON (((1031000.000 5652000.000, 10320...      1015.0   \n",
       "254  MULTIPOLYGON (((1116000.000 5708000.000, 11250...      1908.0   \n",
       "255  MULTIPOLYGON (((1139000.000 5531000.000, 11400...       847.0   \n",
       "256  MULTIPOLYGON (((1206000.000 5582000.000, 12070...      1420.0   \n",
       "\n",
       "     1990 urban  2000 urban  2014 urban  90-00 UG  00-14 UG  75-90 UG  \n",
       "252         957        1078        1173       121        95     102.0  \n",
       "253        1114        1266        1421       152       155      99.0  \n",
       "254        2214        2555        2879       341       324     306.0  \n",
       "255         967        1027        1167        60       140     120.0  \n",
       "256        1440        1743        1930       303       187      20.0  "
      ]
     },
     "execution_count": 6,
     "metadata": {},
     "output_type": "execute_result"
    }
   ],
   "source": [
    "countries_gpd.head()"
   ]
  },
  {
   "cell_type": "markdown",
   "id": "f3b85923",
   "metadata": {},
   "source": [
    "# 3. Use CCA\n",
    "\n",
    "The reclassified maps can be found at: https://figshare.com/s/406b4f8506dfdb80e9b6\n",
    "\n",
    "The parameters by scenarios can be found at: https://doi.org/10.6084/m9.figshare.22194244.v1\n",
    "\n",
    "After downloading, copy the parameters to a \"parameters\" folder and the pkl files to the \"pickled_data\" folder."
   ]
  },
  {
   "cell_type": "code",
   "execution_count": 7,
   "id": "74f80f08",
   "metadata": {},
   "outputs": [],
   "source": [
    "# Load fact maps of functional urban areas, binarily classified with urban, non-urban land uses\n",
    "with open(r'pickled_data\\categorized_FUA_1975s.pickle', 'rb') as handle:\n",
    "    categorized_FUA_1975s = pickle.load(handle)\n",
    "with open(r'pickled_data\\categorized_FUA_1990s.pickle', 'rb') as handle:\n",
    "    categorized_FUA_1990s = pickle.load(handle)\n",
    "# with open(r'pickled_data\\categorized_FUA_2000s.pickle', 'rb') as handle:\n",
    "#     categorized_FUA_2000s = pickle.load(handle)\n",
    "# with open(r'pickled_data\\categorized_FUA_2014s.pickle', 'rb') as handle:\n",
    "#     categorized_FUA_2014s = pickle.load(handle)"
   ]
  },
  {
   "cell_type": "code",
   "execution_count": 110,
   "id": "b5b95139",
   "metadata": {},
   "outputs": [],
   "source": [
    "# Load the parameters for urban spatial development scenarios projection\n",
    "\n",
    "# paths = [ r'parameters\\Avignon_m_chain2.npy',r'parameters\\Poitiers_m_chain2.npy',\n",
    "#          r'parameters\\Belfast_m_chain2.npy',r'parameters\\Blackwater_m_chain2.npy',\n",
    "#          r'parameters\\Enschede_m_chain2.npy',r'parameters\\Utrecht_m_chain2.npy',\n",
    "#          r'parameters\\Leuven_m_chain2.npy',r'parameters\\Mons_m_chain2.npy', \n",
    "#          r'parameters\\Mönchengladbach_m_chain2.npy',r'parameters\\Wuppertal_m_chain2.npy']\n",
    "\n",
    "# chains = [np.load(path,allow_pickle=True) for path in paths]\n",
    "# paras_best20 = [chain[0][chain[2].argsort()[:20]] for chain in chains]\n",
    "# seeds_best20 = [chain[1][chain[2].argsort()[:20]] for chain in chains]\n",
    "\n",
    "paras_fourscenarios = np.load(r'pickled_data\\paras_fourscenarios.npy',allow_pickle=True)\n",
    "seeds_fourscenarios = np.load(r'pickled_data\\seeds_fourscenarios.npy',allow_pickle=True)"
   ]
  },
  {
   "cell_type": "code",
   "execution_count": 9,
   "id": "bf0a7a18",
   "metadata": {},
   "outputs": [
    {
     "data": {
      "image/svg+xml": [
       "<svg xmlns=\"http://www.w3.org/2000/svg\" xmlns:xlink=\"http://www.w3.org/1999/xlink\" width=\"300\" height=\"300\" viewBox=\"92200.0 5998200.0 16600.0 21600.0\" preserveAspectRatio=\"xMinYMin meet\"><g transform=\"matrix(1,0,0,-1,0,12018000.0)\"><g><path fill-rule=\"evenodd\" fill=\"#66cc99\" stroke=\"#555555\" stroke-width=\"144.0\" opacity=\"0.6\" d=\"M 108000.0,6011000.0 L 106000.0,6011000.0 L 106000.0,6010000.0 L 104000.0,6010000.0 L 104000.0,6008000.0 L 103000.0,6008000.0 L 103000.0,6007000.0 L 102000.0,6007000.0 L 102000.0,6006000.0 L 103000.0,6006000.0 L 103000.0,6005000.0 L 104000.0,6005000.0 L 104000.0,6004000.0 L 105000.0,6004000.0 L 105000.0,6003000.0 L 106000.0,6003000.0 L 106000.0,6000000.0 L 105000.0,6000000.0 L 105000.0,5999000.0 L 95000.0,5999000.0 L 95000.0,6009000.0 L 94000.0,6009000.0 L 94000.0,6012000.0 L 93000.0,6012000.0 L 93000.0,6015000.0 L 94000.0,6015000.0 L 94000.0,6016000.0 L 95000.0,6016000.0 L 95000.0,6017000.0 L 96000.0,6017000.0 L 96000.0,6018000.0 L 101000.0,6018000.0 L 101000.0,6019000.0 L 108000.0,6019000.0 L 108000.0,6011000.0 z\" /></g></g></svg>"
      ],
      "text/plain": [
       "<MULTIPOLYGON (((108000 6011000, 106000 6011000, 106000 6010000, 104000 6010...>"
      ]
     },
     "execution_count": 9,
     "metadata": {},
     "output_type": "execute_result"
    }
   ],
   "source": [
    "# The FUA polygon of Margate, UK\n",
    "index_of_margate = 649\n",
    "countries_gpd.iloc[index_of_margate].geometry"
   ]
  },
  {
   "cell_type": "code",
   "execution_count": 10,
   "id": "4f57b4ea",
   "metadata": {},
   "outputs": [
    {
     "data": {
      "text/plain": [
       "33.0"
      ]
     },
     "execution_count": 10,
     "metadata": {},
     "output_type": "execute_result"
    }
   ],
   "source": [
    "#75-90 growth of Margate, UK\n",
    "\n",
    "growth_num7590 = countries_gpd.iloc[index_of_margate]['75-90 UG']\n",
    "growth_num7590"
   ]
  },
  {
   "cell_type": "code",
   "execution_count": 11,
   "id": "e9771ce2",
   "metadata": {},
   "outputs": [
    {
     "data": {
      "image/png": "[encoded data removed]",
      "text/plain": [
       "<Figure size 640x480 with 1 Axes>"
      ]
     },
     "metadata": {},
     "output_type": "display_data"
    },
    {
     "data": {
      "text/plain": [
       "<AxesSubplot:>"
      ]
     },
     "execution_count": 11,
     "metadata": {},
     "output_type": "execute_result"
    }
   ],
   "source": [
    "# The urban area (cells/pixels) of Margate, UK\n",
    "fua_1975 = categorized_FUA_1975s[index_of_margate].copy()\n",
    "fua_1975[fua_1975==-200]=0\n",
    "show(fua_1975)"
   ]
  },
  {
   "cell_type": "code",
   "execution_count": null,
   "id": "2f0a9f53",
   "metadata": {},
   "outputs": [],
   "source": [
    "# index_of_parameter_set=3\n",
    "# index_of_chain=2\n",
    "# paras = paras_best20[index_of_parameter_set][index_of_chain]\n",
    "# seed =seeds_best20[index_of_parameter_set][index_of_chain]\n",
    "\n",
    "scenario_no = 0\n",
    "idx = np.random.randint(len(paras_fourscenarios[scenario_no]))\n",
    "paras  = paras_fourscenarios[scenario_no][idx]\n",
    "seeds = seeds_fourscenarios[scenario_no][idx]\n",
    "\n",
    "\n",
    "categorized_FUA_1975 = categorized_FUA_1975s[index_of_margate]\n",
    "rows, cols = categorized_FUA_1975.shape\n",
    "\n",
    "urban_num = int(countries_gpd.iloc[index_of_margate]['75-90 UG'])\n",
    "\n",
    "result = CCA_EU.CCA_last_snapshot([paras[0],0,paras[1]],[0,paras[2],paras[3]],\n",
    "                                  seed=seed,landmap=categorized_FUA_1975.copy(),\n",
    "                                  rows=rows,cols=cols,urban_num=urban_num,trans_num=15) "
   ]
  },
  {
   "cell_type": "code",
   "execution_count": 19,
   "id": "cc268afd",
   "metadata": {},
   "outputs": [],
   "source": [
    "# Load the affine transform for mapping, found at https://figshare.com/s/406b4f8506dfdb80e9b6\n",
    "with open(r'pickled_data\\out_transforms1975.pkl', 'rb') as f:\n",
    "    out_transforms1975 = pickle.load(f)"
   ]
  },
  {
   "cell_type": "code",
   "execution_count": 20,
   "id": "180a285f",
   "metadata": {},
   "outputs": [
    {
     "data": {
      "text/plain": [
       "Text(0.5, 1.0, 'Simulated changes')"
      ]
     },
     "execution_count": 20,
     "metadata": {},
     "output_type": "execute_result"
    },
    {
     "data": {
      "image/png": "[encoded data removed]",
      "text/plain": [
       "<Figure size 1000x400 with 2 Axes>"
      ]
     },
     "metadata": {},
     "output_type": "display_data"
    }
   ],
   "source": [
    "changes_colours = ListedColormap(['none','r'])\n",
    "cmap = ListedColormap([\"none\",\"none\", \"grey\"])\n",
    "\n",
    "fig, axes = plt.subplots(1,2,figsize=(10,4))\n",
    "\n",
    "result_plot = categorized_FUA_1990s[index_of_margate].copy()\n",
    "result_plot[result_plot==-200]=0\n",
    "show(result_plot, ax=axes[0], transform=out_transforms1975[index_of_margate],cmap=cmap)\n",
    "previous = categorized_FUA_1975s[index_of_margate].copy()\n",
    "previous[previous==-200]=0\n",
    "# result_plot = result_plots[i].copy()\n",
    "# result_plot[result_plot==-200]=0\n",
    "changes = result_plot-previous\n",
    "show(changes,ax=axes[0],cmap=changes_colours,transform=out_transforms1975[index_of_margate])\n",
    "axes[0].tick_params(labelbottom=False,labelleft=False,axis=u'both', which=u'both',length=0)\n",
    "axes[0].set_title('Real changes')\n",
    "\n",
    "result_plot = result.copy()\n",
    "result_plot[result_plot==-200]=0\n",
    "show(result_plot, ax=axes[1], transform=out_transforms1975[index_of_margate],cmap=cmap)\n",
    "previous = categorized_FUA_1975s[index_of_margate].copy()\n",
    "previous[previous==-200]=0\n",
    "result_plot = result.copy()\n",
    "result_plot[result_plot==-200]=0\n",
    "changes = result_plot-previous\n",
    "show(changes,ax=axes[1],cmap=changes_colours,transform=out_transforms1975[index_of_margate])\n",
    "axes[1].tick_params(labelbottom=False,labelleft=False,axis=u'both', which=u'both',length=0)\n",
    "axes[1].set_title('Simulated changes')"
   ]
  },
  {
   "cell_type": "code",
   "execution_count": null,
   "id": "dcafe9e7",
   "metadata": {},
   "outputs": [],
   "source": []
  },
  {
   "cell_type": "markdown",
   "id": "37e28156",
   "metadata": {},
   "source": [
    "# Appendix\n",
    "1. Parameters for four scenarios\n",
    "\n",
    "The original parameters can be found at: https://figshare.com/s/650730f9e6fedc44ac1a   \n",
    "The parameters by scenarios can be found at: https://doi.org/10.6084/m9.figshare.22194244.v1"
   ]
  },
  {
   "cell_type": "code",
   "execution_count": 60,
   "id": "8f457ad8",
   "metadata": {},
   "outputs": [],
   "source": [
    "# Load the parameters for urban spatial development scenarios projection\n",
    "# The parameters can be found at: https://figshare.com/s/650730f9e6fedc44ac1a\n",
    "paths = [ r'results_EU\\pattern_kl\\Avignon_m_chain2.npy',r'results_EU\\pattern_kl\\Poitiers_m_chain2.npy',\n",
    "         r'results_EU\\pattern_kl\\Belfast_m_chain2.npy',r'results_EU\\pattern_kl\\Blackwater_m_chain2.npy',\n",
    "         r'results_EU\\pattern_kl\\Enschede_m_chain2.npy',r'results_EU\\pattern_kl\\Utrecht_m_chain2.npy',\n",
    "         r'results_EU\\pattern_kl\\Leuven_m_chain2.npy', r'results_EU\\pattern_kl\\Mons_m_chain2.npy', \n",
    "         r'results_EU\\pattern_kl\\Mönchengladbach_m_chain2.npy',r'results_EU\\pattern_kl\\Wuppertal_m_chain2.npy']\n",
    "\n",
    "chains = [np.load(path,allow_pickle=True) for path in paths]\n",
    "paras_best20_pattern = [chain[0][chain[2].argsort()[:20]] for chain in chains]\n",
    "seeds_best20_pattern = [chain[1][chain[2].argsort()[:20]] for chain in chains]\n"
   ]
  },
  {
   "cell_type": "code",
   "execution_count": 61,
   "id": "5cd87c19",
   "metadata": {},
   "outputs": [],
   "source": [
    "paths = [ r'results_EU\\changes_kl\\Avignon_m_chain2.npy',r'results_EU\\changes_kl\\Poitiers_m_chain2.npy',\n",
    "         r'results_EU\\changes_kl\\Belfast_m_chain2.npy',r'results_EU\\changes_kl\\Blackwater_m_chain2.npy',\n",
    "         r'results_EU\\changes_kl\\Enschede_m_chain2.npy',r'results_EU\\changes_kl\\Utrecht_m_chain2.npy',\n",
    "         r'results_EU\\changes_kl\\Leuven_m_chain2.npy',r'results_EU\\changes_kl\\Mons_m_chain2.npy', \n",
    "         r'results_EU\\changes_kl\\Mönchengladbach_m_chain2.npy',r'results_EU\\changes_kl\\Wuppertal_m_chain2.npy']\n",
    "\n",
    "chains = [np.load(path,allow_pickle=True) for path in paths]\n",
    "paras_best20_change = [chain[0][chain[2].argsort()[:20]] for chain in chains]\n",
    "seeds_best20_change = [chain[1][chain[2].argsort()[:20]] for chain in chains]"
   ]
  },
  {
   "cell_type": "code",
   "execution_count": 99,
   "id": "c5f0f908",
   "metadata": {},
   "outputs": [],
   "source": [
    "paras_compact = np.concatenate([paras_best20_pattern[1], paras_best20_pattern[2],paras_best20_change[2]])"
   ]
  },
  {
   "cell_type": "code",
   "execution_count": 100,
   "id": "a7655a04",
   "metadata": {},
   "outputs": [],
   "source": [
    "seeds_compact = np.concatenate([seeds_best20_pattern[1], seeds_best20_pattern[2],seeds_best20_change[2]])"
   ]
  },
  {
   "cell_type": "code",
   "execution_count": 101,
   "id": "ef35b80f",
   "metadata": {},
   "outputs": [],
   "source": [
    "paras_mediumcompact = np.concatenate([paras_best20_pattern[-1], paras_best20_pattern[4],\n",
    "                                      paras_best20_pattern[0],paras_best20_pattern[3],\n",
    "                                      paras_best20_change[1],paras_best20_change[4]])"
   ]
  },
  {
   "cell_type": "code",
   "execution_count": 102,
   "id": "a2c4a922",
   "metadata": {},
   "outputs": [],
   "source": [
    "seeds_mediumcompact = np.concatenate([seeds_best20_pattern[-1], seeds_best20_pattern[4],\n",
    "                                      seeds_best20_pattern[0],seeds_best20_pattern[3],\n",
    "                                      seeds_best20_change[1],seeds_best20_change[4]])"
   ]
  },
  {
   "cell_type": "code",
   "execution_count": 103,
   "id": "35cbeb7c",
   "metadata": {},
   "outputs": [],
   "source": [
    "paras_mediumdispersed = np.concatenate([paras_best20_pattern[5], paras_best20_pattern[-2],\n",
    "                                      paras_best20_pattern[-3],paras_best20_change[0],\n",
    "                                      paras_best20_change[-1],paras_best20_change[5]])"
   ]
  },
  {
   "cell_type": "code",
   "execution_count": 104,
   "id": "b28050bb",
   "metadata": {},
   "outputs": [],
   "source": [
    "seeds_mediumdispersed = np.concatenate([seeds_best20_pattern[5], seeds_best20_pattern[-2],\n",
    "                                      seeds_best20_pattern[-3],seeds_best20_change[0],\n",
    "                                      seeds_best20_change[-1],seeds_best20_change[5]])"
   ]
  },
  {
   "cell_type": "code",
   "execution_count": 105,
   "id": "6c586055",
   "metadata": {},
   "outputs": [],
   "source": [
    "paras_dispersed = np.concatenate([paras_best20_pattern[-4], \n",
    "                                      paras_best20_change[-4],paras_best20_change[-3],\n",
    "                                      paras_best20_change[3],paras_best20_change[-2]])"
   ]
  },
  {
   "cell_type": "code",
   "execution_count": 106,
   "id": "fbcb46f0",
   "metadata": {},
   "outputs": [],
   "source": [
    "seeds_dispersed = np.concatenate([seeds_best20_pattern[-4], \n",
    "                                      seeds_best20_change[-4],seeds_best20_change[-3],\n",
    "                                      seeds_best20_change[3],seeds_best20_change[-2]])"
   ]
  },
  {
   "cell_type": "code",
   "execution_count": 107,
   "id": "551b33dc",
   "metadata": {},
   "outputs": [],
   "source": [
    "paras_fourscenarios = [paras_compact,paras_mediumcompact,paras_mediumdispersed,paras_dispersed]\n",
    "seeds_fourscenarios = [seeds_compact,seeds_mediumcompact,seeds_mediumdispersed,seeds_dispersed]"
   ]
  },
  {
   "cell_type": "code",
   "execution_count": 108,
   "id": "d7f12272",
   "metadata": {},
   "outputs": [],
   "source": [
    "np.save('paras_fourscenarios.npy',paras_fourscenarios)\n",
    "np.save('seeds_fourscenarios.npy',seeds_fourscenarios)"
   ]
  },
  {
   "cell_type": "code",
   "execution_count": null,
   "id": "b1caa3ee",
   "metadata": {},
   "outputs": [],
   "source": []
  }
 ],
 "metadata": {
  "kernelspec": {
   "display_name": "Python 3 (ipykernel)",
   "language": "python",
   "name": "python3"
  },
  "language_info": {
   "codemirror_mode": {
    "name": "ipython",
    "version": 3
   },
   "file_extension": ".py",
   "mimetype": "text/x-python",
   "name": "python",
   "nbconvert_exporter": "python",
   "pygments_lexer": "ipython3",
   "version": "3.9.12"
  }
 },
 "nbformat": 4,
 "nbformat_minor": 5
}
