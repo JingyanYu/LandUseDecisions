{
 "cells": [
  {
   "cell_type": "markdown",
   "id": "bc4c1338",
   "metadata": {},
   "source": [
    "# 1. Install rasterio & geopandas\n",
    "https://rasterio.readthedocs.io/en/latest/installation.html    \n",
    " \n",
    "https://geopandas.org/en/stable/getting_started/install.html\n",
    "\n",
    "1. On windows, after installing Anaconda:     \n",
    "\n",
    "Open the Anaconda command window and run the following commands to install the necessary libraries\n",
    "\n",
    "pip install rasterio  \n",
    "pip install geopandas \n",
    "\n",
    "2. clone CCA_EU from https://github.com/JingyanYu/LandUseDecisions/blob/9bd4747ca46c199b63d7936d16e259e46afff9ec/A%20data-driven%20framework%20to%20manage%20uncertainty/CCA_EU.py"
   ]
  },
  {
   "cell_type": "code",
   "execution_count": 1,
   "id": "f7eb2208",
   "metadata": {
    "scrolled": true
   },
   "outputs": [],
   "source": [
    "import rasterio as rio\n",
    "from rasterio.plot import show"
   ]
  },
  {
   "cell_type": "code",
   "execution_count": 2,
   "id": "210e50c5",
   "metadata": {},
   "outputs": [],
   "source": [
    "import geopandas as gpd"
   ]
  },
  {
   "cell_type": "code",
   "execution_count": 3,
   "id": "df7299a0",
   "metadata": {},
   "outputs": [],
   "source": [
    "import CCA_EU"
   ]
  },
  {
   "cell_type": "code",
   "execution_count": 4,
   "id": "00a48968",
   "metadata": {},
   "outputs": [],
   "source": [
    "import numpy as np\n",
    "import pandas as pd\n",
    "import pickle\n",
    "import matplotlib.pyplot as plt\n",
    "from matplotlib.colors import ListedColormap"
   ]
  },
  {
   "cell_type": "code",
   "execution_count": null,
   "id": "d6918a94",
   "metadata": {},
   "outputs": [],
   "source": []
  },
  {
   "cell_type": "markdown",
   "id": "7415d4c4",
   "metadata": {},
   "source": [
    "# 2. FUA, GHSL data\n",
    "\n",
    "The GHSL built-up raster data publicly available with identifiers doi: 10.2905/jrc-ghsl-10007    \n",
    "Functional urban area vector data: https://ghsl.jrc.ec.europa.eu/ghs_fua.php\n",
    "\n",
    "The processed GeoDataFrame of European functional urban areas & growth - the file countries_gpd.pkl can be downloaded at https://figshare.com/s/245ad30270bd7eb12f41. After downloading the files, copy to a (new) \"pickled_data\" folder."
   ]
  },
  {
   "cell_type": "code",
   "execution_count": 5,
   "id": "56bc905d",
   "metadata": {},
   "outputs": [],
   "source": [
    "# Load a geodataframe of functional urban areas (FUAs) in European OECD countries \n",
    "# with units of built-up urban growth between 1975-2014 \n",
    "\n",
    "countries_gpd = pd.read_pickle(r\"pickled_data\\countries_gpd.pkl\")\n",
    "FUAs = countries_gpd['eFUA_name'].to_list()\n",
    "countries = countries_gpd['Cntry_name'].to_list()"
   ]
  },
  {
   "cell_type": "code",
   "execution_count": 6,
   "id": "349f713b",
   "metadata": {},
   "outputs": [
    {
     "data": {
      "text/html": [
       "<div>\n",
       "<style scoped>\n",
       "    .dataframe tbody tr th:only-of-type {\n",
       "        vertical-align: middle;\n",
       "    }\n",
       "\n",
       "    .dataframe tbody tr th {\n",
       "        vertical-align: top;\n",
       "    }\n",
       "\n",
       "    .dataframe thead th {\n",
       "        text-align: right;\n",
       "    }\n",
       "</style>\n",
       "<table border=\"1\" class=\"dataframe\">\n",
       "  <thead>\n",
       "    <tr style=\"text-align: right;\">\n",
       "      <th></th>\n",
       "      <th>eFUA_name</th>\n",
       "      <th>Cntry_name</th>\n",
       "      <th>FUA_area</th>\n",
       "      <th>UC_area</th>\n",
       "      <th>geometry</th>\n",
       "      <th>1975 urban</th>\n",
       "      <th>1990 urban</th>\n",
       "      <th>2000 urban</th>\n",
       "      <th>2014 urban</th>\n",
       "      <th>90-00 UG</th>\n",
       "      <th>00-14 UG</th>\n",
       "      <th>75-90 UG</th>\n",
       "    </tr>\n",
       "  </thead>\n",
       "  <tbody>\n",
       "    <tr>\n",
       "      <th>252</th>\n",
       "      <td>Innsbruck</td>\n",
       "      <td>Austria</td>\n",
       "      <td>352.0</td>\n",
       "      <td>27.0</td>\n",
       "      <td>MULTIPOLYGON (((914000.000 5590000.000, 916000...</td>\n",
       "      <td>855.0</td>\n",
       "      <td>957</td>\n",
       "      <td>1078</td>\n",
       "      <td>1173</td>\n",
       "      <td>121</td>\n",
       "      <td>95</td>\n",
       "      <td>102.0</td>\n",
       "    </tr>\n",
       "    <tr>\n",
       "      <th>253</th>\n",
       "      <td>Salzburg</td>\n",
       "      <td>Austria</td>\n",
       "      <td>368.0</td>\n",
       "      <td>46.0</td>\n",
       "      <td>MULTIPOLYGON (((1031000.000 5652000.000, 10320...</td>\n",
       "      <td>1015.0</td>\n",
       "      <td>1114</td>\n",
       "      <td>1266</td>\n",
       "      <td>1421</td>\n",
       "      <td>152</td>\n",
       "      <td>155</td>\n",
       "      <td>99.0</td>\n",
       "    </tr>\n",
       "    <tr>\n",
       "      <th>254</th>\n",
       "      <td>Linz</td>\n",
       "      <td>Austria</td>\n",
       "      <td>875.0</td>\n",
       "      <td>69.0</td>\n",
       "      <td>MULTIPOLYGON (((1116000.000 5708000.000, 11250...</td>\n",
       "      <td>1908.0</td>\n",
       "      <td>2214</td>\n",
       "      <td>2555</td>\n",
       "      <td>2879</td>\n",
       "      <td>341</td>\n",
       "      <td>324</td>\n",
       "      <td>306.0</td>\n",
       "    </tr>\n",
       "    <tr>\n",
       "      <th>255</th>\n",
       "      <td>Klagenfurt</td>\n",
       "      <td>Austria</td>\n",
       "      <td>462.0</td>\n",
       "      <td>26.0</td>\n",
       "      <td>MULTIPOLYGON (((1139000.000 5531000.000, 11400...</td>\n",
       "      <td>847.0</td>\n",
       "      <td>967</td>\n",
       "      <td>1027</td>\n",
       "      <td>1167</td>\n",
       "      <td>60</td>\n",
       "      <td>140</td>\n",
       "      <td>120.0</td>\n",
       "    </tr>\n",
       "    <tr>\n",
       "      <th>256</th>\n",
       "      <td>Graz</td>\n",
       "      <td>Austria</td>\n",
       "      <td>978.0</td>\n",
       "      <td>73.0</td>\n",
       "      <td>MULTIPOLYGON (((1206000.000 5582000.000, 12070...</td>\n",
       "      <td>1420.0</td>\n",
       "      <td>1440</td>\n",
       "      <td>1743</td>\n",
       "      <td>1930</td>\n",
       "      <td>303</td>\n",
       "      <td>187</td>\n",
       "      <td>20.0</td>\n",
       "    </tr>\n",
       "  </tbody>\n",
       "</table>\n",
       "</div>"
      ],
      "text/plain": [
       "      eFUA_name Cntry_name  FUA_area  UC_area  \\\n",
       "252   Innsbruck    Austria     352.0     27.0   \n",
       "253    Salzburg    Austria     368.0     46.0   \n",
       "254        Linz    Austria     875.0     69.0   \n",
       "255  Klagenfurt    Austria     462.0     26.0   \n",
       "256        Graz    Austria     978.0     73.0   \n",
       "\n",
       "                                              geometry  1975 urban  \\\n",
       "252  MULTIPOLYGON (((914000.000 5590000.000, 916000...       855.0   \n",
       "253  MULTIPOLYGON (((1031000.000 5652000.000, 10320...      1015.0   \n",
       "254  MULTIPOLYGON (((1116000.000 5708000.000, 11250...      1908.0   \n",
       "255  MULTIPOLYGON (((1139000.000 5531000.000, 11400...       847.0   \n",
       "256  MULTIPOLYGON (((1206000.000 5582000.000, 12070...      1420.0   \n",
       "\n",
       "     1990 urban  2000 urban  2014 urban  90-00 UG  00-14 UG  75-90 UG  \n",
       "252         957        1078        1173       121        95     102.0  \n",
       "253        1114        1266        1421       152       155      99.0  \n",
       "254        2214        2555        2879       341       324     306.0  \n",
       "255         967        1027        1167        60       140     120.0  \n",
       "256        1440        1743        1930       303       187      20.0  "
      ]
     },
     "execution_count": 6,
     "metadata": {},
     "output_type": "execute_result"
    }
   ],
   "source": [
    "countries_gpd.head()"
   ]
  },
  {
   "cell_type": "markdown",
   "id": "f3b85923",
   "metadata": {},
   "source": [
    "# 3. Use CCA\n",
    "\n",
    "The reclassified maps can be found at: https://figshare.com/s/406b4f8506dfdb80e9b6\n",
    "\n",
    "The parameters can be found at: https://figshare.com/s/650730f9e6fedc44ac1a\n",
    "\n",
    "After downloading, copy the parameters to a \"parameters\" folder and the pkl files to the \"pickled_data\" folder."
   ]
  },
  {
   "cell_type": "code",
   "execution_count": 7,
   "id": "74f80f08",
   "metadata": {},
   "outputs": [],
   "source": [
    "# Load fact maps of functional urban areas, binarily classified with urban, non-urban land uses\n",
    "with open(r'pickled_data\\categorized_FUA_1975s.pickle', 'rb') as handle:\n",
    "    categorized_FUA_1975s = pickle.load(handle)\n",
    "with open(r'pickled_data\\categorized_FUA_1990s.pickle', 'rb') as handle:\n",
    "    categorized_FUA_1990s = pickle.load(handle)\n",
    "# with open(r'C:\\Users\\jyu5\\Desktop\\GlobalSustainableUrbanSpatialDevelopments\\previous_code\\reuslts_OECD\\categorized_FUA_2000s.pickle', 'rb') as handle:\n",
    "#     categorized_FUA_2000s = pickle.load(handle)\n",
    "# with open(r'C:\\Users\\jyu5\\Desktop\\GlobalSustainableUrbanSpatialDevelopments\\previous_code\\reuslts_OECD\\categorized_FUA_2014s.pickle', 'rb') as handle:\n",
    "#     categorized_FUA_2014s = pickle.load(handle)"
   ]
  },
  {
   "cell_type": "code",
   "execution_count": 18,
   "id": "b5b95139",
   "metadata": {},
   "outputs": [],
   "source": [
    "# Load the parameters for urban spatial development scenarios projection\n",
    "\n",
    "paths = [ r'parameters\\Avignon_m_chain2.npy',r'parameters\\Poitiers_m_chain2.npy',\n",
    "         r'parameters\\Belfast_m_chain2.npy',r'parameters\\Blackwater_m_chain2.npy',\n",
    "         r'parameters\\Enschede_m_chain2.npy',r'parameters\\Utrecht_m_chain2.npy',\n",
    "         r'parameters\\Leuven_m_chain2.npy',r'parameters\\Mons_m_chain2.npy', \n",
    "         r'parameters\\Mönchengladbach_m_chain2.npy',r'parameters\\Wuppertal_m_chain2.npy']\n",
    "\n",
    "chains = [np.load(path,allow_pickle=True) for path in paths]\n",
    "paras_best20 = [chain[0][chain[2].argsort()[:20]] for chain in chains]\n",
    "seeds_best20 = [chain[1][chain[2].argsort()[:20]] for chain in chains]"
   ]
  },
  {
   "cell_type": "code",
   "execution_count": 19,
   "id": "bf0a7a18",
   "metadata": {},
   "outputs": [
    {
     "data": {
      "image/svg+xml": [
       "<svg xmlns=\"http://www.w3.org/2000/svg\" xmlns:xlink=\"http://www.w3.org/1999/xlink\" width=\"300\" height=\"300\" viewBox=\"875440.0 5566440.0 42120.0 26120.0\" preserveAspectRatio=\"xMinYMin meet\"><g transform=\"matrix(1,0,0,-1,0,11159000.0)\"><g><path fill-rule=\"evenodd\" fill=\"#66cc99\" stroke=\"#555555\" stroke-width=\"280.8\" opacity=\"0.6\" d=\"M 914000.0,5590000.0 L 916000.0,5590000.0 L 916000.0,5588000.0 L 915000.0,5588000.0 L 915000.0,5587000.0 L 914000.0,5587000.0 L 914000.0,5586000.0 L 912000.0,5586000.0 L 912000.0,5585000.0 L 911000.0,5585000.0 L 911000.0,5584000.0 L 909000.0,5584000.0 L 909000.0,5583000.0 L 907000.0,5583000.0 L 907000.0,5582000.0 L 906000.0,5582000.0 L 906000.0,5581000.0 L 905000.0,5581000.0 L 905000.0,5579000.0 L 904000.0,5579000.0 L 904000.0,5577000.0 L 903000.0,5577000.0 L 903000.0,5575000.0 L 902000.0,5575000.0 L 902000.0,5574000.0 L 903000.0,5574000.0 L 903000.0,5572000.0 L 904000.0,5572000.0 L 904000.0,5568000.0 L 901000.0,5568000.0 L 901000.0,5569000.0 L 899000.0,5569000.0 L 899000.0,5570000.0 L 898000.0,5570000.0 L 898000.0,5571000.0 L 896000.0,5571000.0 L 896000.0,5572000.0 L 894000.0,5572000.0 L 894000.0,5573000.0 L 893000.0,5573000.0 L 893000.0,5574000.0 L 892000.0,5574000.0 L 892000.0,5575000.0 L 891000.0,5575000.0 L 891000.0,5576000.0 L 890000.0,5576000.0 L 890000.0,5577000.0 L 889000.0,5577000.0 L 889000.0,5578000.0 L 888000.0,5578000.0 L 888000.0,5579000.0 L 887000.0,5579000.0 L 887000.0,5580000.0 L 886000.0,5580000.0 L 886000.0,5581000.0 L 884000.0,5581000.0 L 884000.0,5582000.0 L 883000.0,5582000.0 L 883000.0,5583000.0 L 881000.0,5583000.0 L 881000.0,5584000.0 L 879000.0,5584000.0 L 879000.0,5585000.0 L 878000.0,5585000.0 L 878000.0,5586000.0 L 877000.0,5586000.0 L 877000.0,5587000.0 L 879000.0,5587000.0 L 879000.0,5588000.0 L 883000.0,5588000.0 L 883000.0,5587000.0 L 885000.0,5587000.0 L 885000.0,5586000.0 L 889000.0,5586000.0 L 889000.0,5585000.0 L 892000.0,5585000.0 L 892000.0,5586000.0 L 895000.0,5586000.0 L 895000.0,5587000.0 L 900000.0,5587000.0 L 900000.0,5588000.0 L 904000.0,5588000.0 L 904000.0,5589000.0 L 907000.0,5589000.0 L 907000.0,5590000.0 L 910000.0,5590000.0 L 910000.0,5591000.0 L 914000.0,5591000.0 L 914000.0,5590000.0 z\" /></g></g></svg>"
      ],
      "text/plain": [
       "<MULTIPOLYGON (((914000 5590000, 916000 5590000, 916000 5588000, 915000 5588...>"
      ]
     },
     "execution_count": 19,
     "metadata": {},
     "output_type": "execute_result"
    }
   ],
   "source": [
    "# The FUA polygon of Innsbruck, Austria\n",
    "countries_gpd.iloc[0].geometry"
   ]
  },
  {
   "cell_type": "code",
   "execution_count": 20,
   "id": "4f57b4ea",
   "metadata": {},
   "outputs": [
    {
     "data": {
      "text/plain": [
       "102.0"
      ]
     },
     "execution_count": 20,
     "metadata": {},
     "output_type": "execute_result"
    }
   ],
   "source": [
    "#75-90 growth of Innsbruck, Austria\n",
    "\n",
    "growth_num7590 = countries_gpd.iloc[0]['75-90 UG']\n",
    "growth_num7590"
   ]
  },
  {
   "cell_type": "code",
   "execution_count": 21,
   "id": "e9771ce2",
   "metadata": {},
   "outputs": [
    {
     "data": {
      "image/png": "[encoded data removed]",
      "text/plain": [
       "<Figure size 640x480 with 1 Axes>"
      ]
     },
     "metadata": {},
     "output_type": "display_data"
    },
    {
     "data": {
      "text/plain": [
       "<AxesSubplot:>"
      ]
     },
     "execution_count": 21,
     "metadata": {},
     "output_type": "execute_result"
    }
   ],
   "source": [
    "# The urban area (cells/pixels) of Innsbruck, Austria\n",
    "fua_1975 = categorized_FUA_1975s[0].copy()\n",
    "fua_1975[fua_1975==-200]=0\n",
    "show(fua_1975)"
   ]
  },
  {
   "cell_type": "code",
   "execution_count": 30,
   "id": "2f0a9f53",
   "metadata": {},
   "outputs": [
    {
     "name": "stdout",
     "output_type": "stream",
     "text": [
      "92\n",
      "156\n",
      "102.0\n"
     ]
    }
   ],
   "source": [
    "i=0\n",
    "n=0\n",
    "paras = paras_best20[i][n]\n",
    "seed =seeds_best20[i][n]\n",
    "\n",
    "j=0\n",
    "categorized_FUA_1975 = categorized_FUA_1975s[j]\n",
    "rows, cols = categorized_FUA_1975.shape\n",
    "\n",
    "urban_num = countries_gpd.iloc[j]['75-90 UG']\n",
    "print(rows)\n",
    "print(cols)\n",
    "print(urban_num)\n",
    "\n",
    "result = CCA_EU.CCA_last_snapshot([paras[0],0,paras[1]],[0,paras[2],paras[3]],\n",
    "                                  seed=seed,landmap=categorized_FUA_1975.copy(),\n",
    "                                  rows=rows,cols=cols,urban_num=int(urban_num),trans_num=15) "
   ]
  },
  {
   "cell_type": "code",
   "execution_count": 31,
   "id": "cc268afd",
   "metadata": {},
   "outputs": [],
   "source": [
    "# Load the affine transform for mapping, found at https://figshare.com/s/406b4f8506dfdb80e9b6\n",
    "with open(r'pickled_data\\out_transforms1975.pkl', 'rb') as f:\n",
    "    out_transforms1975 = pickle.load(f)"
   ]
  },
  {
   "cell_type": "code",
   "execution_count": 32,
   "id": "180a285f",
   "metadata": {},
   "outputs": [
    {
     "data": {
      "text/plain": [
       "Text(0.5, 1.0, 'Simulated changes')"
      ]
     },
     "execution_count": 32,
     "metadata": {},
     "output_type": "execute_result"
    },
    {
     "data": {
      "image/png": "[encoded data removed]",
      "text/plain": [
       "<Figure size 1000x400 with 2 Axes>"
      ]
     },
     "metadata": {},
     "output_type": "display_data"
    }
   ],
   "source": [
    "changes_colours = ListedColormap(['none','r'])\n",
    "cmap = ListedColormap([\"none\",\"none\", \"grey\"])\n",
    "\n",
    "fig, axes = plt.subplots(1,2,figsize=(10,4))\n",
    "\n",
    "result_plot = categorized_FUA_1990s[j].copy()\n",
    "result_plot[result_plot==-200]=0\n",
    "show(result_plot, ax=axes[0], transform=out_transforms1975[j],cmap=cmap)\n",
    "previous = categorized_FUA_1975s[j].copy()\n",
    "previous[previous==-200]=0\n",
    "# result_plot = result_plots[i].copy()\n",
    "# result_plot[result_plot==-200]=0\n",
    "changes = result_plot-previous\n",
    "show(changes,ax=axes[0],cmap=changes_colours,transform=out_transforms1975[j])\n",
    "axes[0].tick_params(labelbottom=False,labelleft=False,axis=u'both', which=u'both',length=0)\n",
    "axes[0].set_title('Real changes')\n",
    "\n",
    "result_plot = result.copy()\n",
    "result_plot[result_plot==-200]=0\n",
    "show(result_plot, ax=axes[1], transform=out_transforms1975[j],cmap=cmap)\n",
    "previous = categorized_FUA_1975s[j].copy()\n",
    "previous[previous==-200]=0\n",
    "result_plot = result.copy()\n",
    "result_plot[result_plot==-200]=0\n",
    "changes = result_plot-previous\n",
    "show(changes,ax=axes[1],cmap=changes_colours,transform=out_transforms1975[j])\n",
    "axes[1].tick_params(labelbottom=False,labelleft=False,axis=u'both', which=u'both',length=0)\n",
    "axes[1].set_title('Simulated changes')"
   ]
  },
  {
   "cell_type": "code",
   "execution_count": null,
   "id": "dcafe9e7",
   "metadata": {},
   "outputs": [],
   "source": []
  }
 ],
 "metadata": {
  "kernelspec": {
   "display_name": "Python 3 (ipykernel)",
   "language": "python",
   "name": "python3"
  },
  "language_info": {
   "codemirror_mode": {
    "name": "ipython",
    "version": 3
   },
   "file_extension": ".py",
   "mimetype": "text/x-python",
   "name": "python",
   "nbconvert_exporter": "python",
   "pygments_lexer": "ipython3",
   "version": "3.9.13"
  }
 },
 "nbformat": 4,
 "nbformat_minor": 5
}
